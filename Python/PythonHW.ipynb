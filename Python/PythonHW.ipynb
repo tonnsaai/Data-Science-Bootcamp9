{
  "nbformat": 4,
  "nbformat_minor": 0,
  "metadata": {
    "colab": {
      "provenance": []
    },
    "kernelspec": {
      "name": "python3",
      "display_name": "Python 3"
    },
    "language_info": {
      "name": "python"
    }
  },
  "cells": [
    {
      "cell_type": "markdown",
      "source": [
        "***Rock Paper Scissors!***"
      ],
      "metadata": {
        "id": "mMSbWu_Lkn7g"
      }
    },
    {
      "cell_type": "code",
      "execution_count": null,
      "metadata": {
        "id": "3F0soufYitqy"
      },
      "outputs": [],
      "source": [
        "#Rock, Paper, Scissor Game\n",
        "import random\n",
        "def game():\n",
        "  name = input()\n",
        "  print(f\"Hello {name}, This is Rock/Paper/Scisscor game\")\n",
        "  print(\"\")\n",
        "  hands = [\"rock\",\"paper\",\"scissor\"]\n",
        "  def game_start():\n",
        "    score = 0\n",
        "    comp_score=0\n",
        "    while True:\n",
        "      if score == 3:\n",
        "        print(\"Congratulation you are the winner!!!\")\n",
        "        ANS_W= input(\"Play again Y/N? :\")\n",
        "        if ANS_W in (\"yes\",\"y\"):\n",
        "          game_start()\n",
        "        elif ANS_W in (\"no\",\"n\"):\n",
        "           print(\"Thank you for playing with us!! Bye\")\n",
        "           break\n",
        "      elif comp_score ==3:\n",
        "        print(\"Bad luck. Try agian next time T^T....\")\n",
        "        ANS_L = input(\"Play again Y/N? :\")\n",
        "        if ANS_L in (\"yes\",\"y\"):\n",
        "          game_start()\n",
        "        elif ANS_L in (\"no\",\"n\"):\n",
        "          print(\"Thank you for playing with us!! Bye\")\n",
        "          break\n",
        "      else:\n",
        "          comp=random.choice(hands)\n",
        "          user = input(\"Please select : \")\n",
        "          print (f\"you choose {user} : computer {comp}\")\n",
        "          if user == comp:\n",
        "            print(\"Draw!\")\n",
        "          elif user == \"rock\" and comp == \"scissor\":\n",
        "            print(\"Your won!\")\n",
        "            score  += 1\n",
        "          elif user == \"scissor\" and comp == \"paper\":\n",
        "            print(\"You won!\")\n",
        "            score += 1\n",
        "          elif user == \"rocrk\" and comp == \"paper\":\n",
        "            print(\"You lose!\")\n",
        "            comp_score += 1\n",
        "          elif user == \"scissor\" and comp == \"rock\":\n",
        "            print(\"You lose!\")\n",
        "            comp_score +=  1\n",
        "  game_start()\n",
        "game()"
      ]
    },
    {
      "cell_type": "markdown",
      "source": [
        "***Object-oriented programming (OOP)***"
      ],
      "metadata": {
        "id": "oCJsUyeMlO-q"
      }
    },
    {
      "cell_type": "code",
      "source": [
        "##Salary forecasting\n",
        "class data():\n",
        "  def __init__ (self,name,age,exp,currentsalary):\n",
        "    self.name = name\n",
        "    self.age = age\n",
        "    self.exp = exp\n",
        "    self.currentsalary = currentsalary\n",
        "  def greet(self):\n",
        "    print(f\"Hello {self.name}!!, Welcome to Sai Co., Ltd.\")\n",
        "  def salary(self):\n",
        "    for i in range(self.exp):\n",
        "      new_salary = self.currentsalary * 0.1\n",
        "      self.currentsalary += new_salary\n",
        "      last_salary = self.currentsalary\n",
        "      new_age = self.age + exp\n",
        "    print(f\"If you work with us for the next {exp} years, Company will offer you 10% salary increase every year\")\n",
        "    print(f\"Your predicted salary in the next {exp} years is {last_salary} THB at age {new_age}\")\n",
        "\n",
        "name = input(\"Please enter  your name: \")\n",
        "age = int(input(\"Current age: \"))\n",
        "exp = int(input(\"Predicted experience(s) (unit in years): \"))\n",
        "currentsalary = int(input(\"Enter your current salary: \"))\n",
        "print(\"\")\n",
        "\n",
        "employee = data(name,age,exp,currentsalary)\n",
        "employee.greet()\n",
        "employee.salary()\n"
      ],
      "metadata": {
        "id": "WB2CcCZzi6rR"
      },
      "execution_count": null,
      "outputs": []
    }
  ]
}